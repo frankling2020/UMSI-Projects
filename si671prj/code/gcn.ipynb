{
 "cells": [
  {
   "cell_type": "code",
   "execution_count": 1,
   "metadata": {},
   "outputs": [],
   "source": [
    "import networkx as nx\n",
    "import pandas as pd\n",
    "import torch\n",
    "import random"
   ]
  },
  {
   "attachments": {},
   "cell_type": "markdown",
   "metadata": {},
   "source": [
    "**Edge_index**"
   ]
  },
  {
   "cell_type": "code",
   "execution_count": 2,
   "metadata": {},
   "outputs": [],
   "source": [
    "friends = pd.read_csv(\"user_friend.csv\", sep=\"\\t\")\n",
    "friends.drop(columns=\"Unnamed: 0\", inplace=True)\n",
    "friends['friend_id'] = list(map(lambda row: list(map(lambda x: int(x), row[1:-1].split(', '))), friends['friend_id']))\n",
    "relationship = friends.explode('friend_id', ignore_index=True)"
   ]
  },
  {
   "cell_type": "code",
   "execution_count": 3,
   "metadata": {},
   "outputs": [],
   "source": [
    "user_id = set(relationship['id'].values)\n",
    "relationship['friend_id'] = relationship['friend_id'].astype(int)\n",
    "relationship = relationship[relationship.friend_id.isin(user_id)]\n",
    "relationship = relationship[relationship.id < relationship.friend_id]\n",
    "relationship = relationship.reset_index()"
   ]
  },
  {
   "cell_type": "code",
   "execution_count": 4,
   "metadata": {},
   "outputs": [
    {
     "data": {
      "text/html": [
       "<div>\n",
       "<style scoped>\n",
       "    .dataframe tbody tr th:only-of-type {\n",
       "        vertical-align: middle;\n",
       "    }\n",
       "\n",
       "    .dataframe tbody tr th {\n",
       "        vertical-align: top;\n",
       "    }\n",
       "\n",
       "    .dataframe thead th {\n",
       "        text-align: right;\n",
       "    }\n",
       "</style>\n",
       "<table border=\"1\" class=\"dataframe\">\n",
       "  <thead>\n",
       "    <tr style=\"text-align: right;\">\n",
       "      <th></th>\n",
       "      <th>index</th>\n",
       "      <th>id</th>\n",
       "      <th>friend_id</th>\n",
       "    </tr>\n",
       "  </thead>\n",
       "  <tbody>\n",
       "    <tr>\n",
       "      <th>0</th>\n",
       "      <td>11</td>\n",
       "      <td>2594736</td>\n",
       "      <td>4489237</td>\n",
       "    </tr>\n",
       "    <tr>\n",
       "      <th>1</th>\n",
       "      <td>16</td>\n",
       "      <td>2594736</td>\n",
       "      <td>4554789</td>\n",
       "    </tr>\n",
       "    <tr>\n",
       "      <th>2</th>\n",
       "      <td>18</td>\n",
       "      <td>2594736</td>\n",
       "      <td>4554798</td>\n",
       "    </tr>\n",
       "    <tr>\n",
       "      <th>3</th>\n",
       "      <td>20</td>\n",
       "      <td>2594736</td>\n",
       "      <td>4292656</td>\n",
       "    </tr>\n",
       "    <tr>\n",
       "      <th>4</th>\n",
       "      <td>30</td>\n",
       "      <td>2594736</td>\n",
       "      <td>3473483</td>\n",
       "    </tr>\n",
       "  </tbody>\n",
       "</table>\n",
       "</div>"
      ],
      "text/plain": [
       "   index       id  friend_id\n",
       "0     11  2594736    4489237\n",
       "1     16  2594736    4554789\n",
       "2     18  2594736    4554798\n",
       "3     20  2594736    4292656\n",
       "4     30  2594736    3473483"
      ]
     },
     "execution_count": 4,
     "metadata": {},
     "output_type": "execute_result"
    }
   ],
   "source": [
    "relationship.head()"
   ]
  },
  {
   "attachments": {},
   "cell_type": "markdown",
   "metadata": {},
   "source": [
    "**Re-index User**"
   ]
  },
  {
   "cell_type": "code",
   "execution_count": 5,
   "metadata": {},
   "outputs": [],
   "source": [
    "user = pd.read_json(\"cleaned_user.json\")"
   ]
  },
  {
   "cell_type": "code",
   "execution_count": 6,
   "metadata": {},
   "outputs": [],
   "source": [
    "mapper = {}\n",
    "for x, y in zip(user['id'].index.values, user['id'].values):\n",
    "    mapper[y] = x\n",
    "\n",
    "relationship['id'] = relationship['id'].apply(lambda x: mapper[x])\n",
    "relationship['friend_id'] = relationship['friend_id'].apply(lambda x: mapper[x])"
   ]
  },
  {
   "cell_type": "code",
   "execution_count": 7,
   "metadata": {},
   "outputs": [],
   "source": [
    "G = nx.from_pandas_edgelist(relationship, \"id\", \"friend_id\", create_using=nx.Graph())\n",
    "bridges = set(nx.bridges(G))"
   ]
  },
  {
   "cell_type": "code",
   "execution_count": 8,
   "metadata": {},
   "outputs": [],
   "source": [
    "d = set()\n",
    "cnt = 0\n",
    "drop_edges = []\n",
    "\n",
    "\n",
    "for row in relationship.iterrows():\n",
    "    a = row[1]['id']\n",
    "    b = row[1]['friend_id']\n",
    "    \n",
    "    if a not in d and b not in d and (a, b) not in bridges and (b, a) not in bridges:\n",
    "        drop_edges.append(row[0])\n",
    "        cnt += 1\n",
    "        d.add(a)\n",
    "        d.add(b)"
   ]
  },
  {
   "cell_type": "code",
   "execution_count": 9,
   "metadata": {},
   "outputs": [],
   "source": [
    "train_test_num_edges = 20000\n",
    "test_num_edges = 10000"
   ]
  },
  {
   "cell_type": "code",
   "execution_count": 10,
   "metadata": {},
   "outputs": [
    {
     "data": {
      "text/plain": [
       "20000"
      ]
     },
     "execution_count": 10,
     "metadata": {},
     "output_type": "execute_result"
    }
   ],
   "source": [
    "random.seed(671) # for reproducibility\n",
    "random_edges_idx = random.sample(drop_edges, train_test_num_edges)\n",
    "len(random_edges_idx)"
   ]
  },
  {
   "cell_type": "code",
   "execution_count": 11,
   "metadata": {},
   "outputs": [],
   "source": [
    "test_id = random.sample(range(train_test_num_edges), test_num_edges)\n",
    "train_id = list(set(range(train_test_num_edges)) - set(test_id))"
   ]
  },
  {
   "cell_type": "code",
   "execution_count": 12,
   "metadata": {},
   "outputs": [],
   "source": [
    "test_edge_id = [random_edges_idx[id] for id in test_id]\n",
    "train_edge_id = [random_edges_idx[id] for id in train_id]"
   ]
  },
  {
   "cell_type": "code",
   "execution_count": 13,
   "metadata": {},
   "outputs": [],
   "source": [
    "reserved_id = list(set(range(relationship.shape[0])) - set(random_edges_idx))"
   ]
  },
  {
   "cell_type": "code",
   "execution_count": 14,
   "metadata": {},
   "outputs": [],
   "source": [
    "train_edges = torch.LongTensor(relationship.iloc[train_edge_id][['id', 'friend_id']].transpose().values)\n",
    "test_edges = torch.LongTensor(relationship.iloc[test_edge_id][['id', 'friend_id']].transpose().values)\n",
    "reserved_edges = torch.LongTensor(relationship.iloc[reserved_id][['id', 'friend_id']].transpose().values)"
   ]
  },
  {
   "attachments": {},
   "cell_type": "markdown",
   "metadata": {},
   "source": [
    "**Node Features**"
   ]
  },
  {
   "cell_type": "code",
   "execution_count": 15,
   "metadata": {},
   "outputs": [],
   "source": [
    "user['elite'] = user['elite'].apply(lambda row: len(set(row.split(','))) if row else 0)\n",
    "user.drop(columns=['Unnamed: 0', 'name', 'yelping_since', 'friend_id', 'id'], inplace=True)"
   ]
  },
  {
   "cell_type": "code",
   "execution_count": 16,
   "metadata": {},
   "outputs": [
    {
     "data": {
      "text/plain": [
       "Index(['average_stars', 'compliment_cool', 'compliment_cute',\n",
       "       'compliment_funny', 'compliment_hot', 'compliment_list',\n",
       "       'compliment_more', 'compliment_note', 'compliment_photos',\n",
       "       'compliment_plain', 'compliment_profile', 'compliment_writer', 'cool',\n",
       "       'elite', 'fans', 'funny', 'review_count', 'useful'],\n",
       "      dtype='object')"
      ]
     },
     "execution_count": 16,
     "metadata": {},
     "output_type": "execute_result"
    }
   ],
   "source": [
    "user.columns"
   ]
  },
  {
   "cell_type": "code",
   "execution_count": 17,
   "metadata": {},
   "outputs": [],
   "source": [
    "x = torch.Tensor(user.values)\n",
    "x_scaled = torch.nn.functional.normalize(x)"
   ]
  },
  {
   "cell_type": "code",
   "execution_count": 18,
   "metadata": {},
   "outputs": [
    {
     "data": {
      "text/plain": [
       "(torch.Size([67095, 18]), torch.Size([2, 1880802]))"
      ]
     },
     "execution_count": 18,
     "metadata": {},
     "output_type": "execute_result"
    }
   ],
   "source": [
    "x_scaled.shape, reserved_edges.shape"
   ]
  },
  {
   "attachments": {},
   "cell_type": "markdown",
   "metadata": {},
   "source": [
    "**Graph**"
   ]
  },
  {
   "cell_type": "code",
   "execution_count": 19,
   "metadata": {},
   "outputs": [],
   "source": [
    "import torch\n",
    "from torch_geometric.data import Data\n",
    "\n",
    "data = Data(x=x_scaled, edge_index=reserved_edges)"
   ]
  },
  {
   "cell_type": "code",
   "execution_count": 20,
   "metadata": {},
   "outputs": [],
   "source": [
    "device = 'cpu'\n",
    "if torch.cuda.is_available():\n",
    "    device = 'cuda'\n",
    "data = data.to(device=device)\n",
    "train_edges = train_edges.to(device=device)\n",
    "test_edges = test_edges.to(device=device)\n",
    "reserved_edges = reserved_edges.to(device=device)"
   ]
  },
  {
   "cell_type": "code",
   "execution_count": 21,
   "metadata": {},
   "outputs": [
    {
     "data": {
      "text/plain": [
       "True"
      ]
     },
     "execution_count": 21,
     "metadata": {},
     "output_type": "execute_result"
    }
   ],
   "source": [
    "data.is_cuda"
   ]
  },
  {
   "attachments": {},
   "cell_type": "markdown",
   "metadata": {},
   "source": [
    "**Model**"
   ]
  },
  {
   "cell_type": "code",
   "execution_count": 74,
   "metadata": {},
   "outputs": [],
   "source": [
    "from torch_geometric.nn import GCNConv, GraphSAGE\n",
    "import torch.nn as nn\n",
    "\n",
    "\n",
    "class MyModel(nn.Module):\n",
    "    def __init__(self, in_dims, hidden_dims, num_layers, out_dims) -> None:\n",
    "        super().__init__()\n",
    "        self.gcn =  GraphSAGE(in_channels = in_dims, hidden_channels=hidden_dims, num_layers=num_layers, \n",
    "                        out_channels=out_dims, project=True, normalize=True)\n",
    "        self.mlp = nn.Sequential(nn.Linear(out_dims, out_dims), nn.ReLU(), nn.Linear(out_dims, out_dims))\n",
    "        self.init_weights(self.mlp)\n",
    "    \n",
    "    def init_weights(self, layers):\n",
    "        for layer in layers:\n",
    "            if isinstance(layer, nn.Linear):\n",
    "                nn.init.xavier_normal_(layer.weight.data)\n",
    "    \n",
    "    def forward(self, data):\n",
    "        # x = self.linear(data.x)\n",
    "        embedding = self.mlp(self.gcn(x=data.x, edge_index=data.edge_index))\n",
    "        return embedding"
   ]
  },
  {
   "cell_type": "code",
   "execution_count": 75,
   "metadata": {},
   "outputs": [],
   "source": [
    "in_dims = data.x.shape[1]\n",
    "model = MyModel(in_dims, 64, 2, 8).to(device)"
   ]
  },
  {
   "attachments": {},
   "cell_type": "markdown",
   "metadata": {},
   "source": [
    "**Go Training**"
   ]
  },
  {
   "cell_type": "code",
   "execution_count": 76,
   "metadata": {},
   "outputs": [],
   "source": [
    "from tqdm import tqdm\n",
    "from torch.optim import Adam\n",
    "from torch_geometric.utils import negative_sampling"
   ]
  },
  {
   "cell_type": "code",
   "execution_count": 77,
   "metadata": {},
   "outputs": [],
   "source": [
    "num_epochs = 2000\n",
    "lr = 5e-4\n",
    "\n",
    "loss_histroy = []\n",
    "optimizer = Adam(model.parameters(), lr=lr)\n",
    "\n",
    "criterion = nn.BCEWithLogitsLoss()"
   ]
  },
  {
   "cell_type": "code",
   "execution_count": 78,
   "metadata": {},
   "outputs": [],
   "source": [
    "def run(model, data, pairs):\n",
    "    embeddings = model(data)\n",
    "    a = embeddings[pairs[0]]\n",
    "    b = embeddings[pairs[1]]\n",
    "    val = torch.sum(a * b, dim=1)\n",
    "    return val"
   ]
  },
  {
   "cell_type": "code",
   "execution_count": 79,
   "metadata": {},
   "outputs": [],
   "source": [
    "known_edges = torch.cat([reserved_edges, train_edges, test_edges], dim=1)\n",
    "neg_test_pairs = negative_sampling(known_edges, data.x.shape[0], test_num_edges, force_undirected=True).to(device)\n",
    "known_edges = torch.cat([known_edges, neg_test_pairs], dim=1)\n",
    "\n",
    "test_pairs = torch.cat([test_edges, neg_test_pairs], dim=1)\n",
    "test_marks = torch.cat([torch.ones(test_edges.shape[1]), torch.zeros(neg_test_pairs.shape[1])]).to(device)"
   ]
  },
  {
   "cell_type": "code",
   "execution_count": 80,
   "metadata": {},
   "outputs": [
    {
     "name": "stderr",
     "output_type": "stream",
     "text": [
      "  5%|▌         | 102/2000 [00:05<01:42, 18.57it/s]"
     ]
    },
    {
     "name": "stdout",
     "output_type": "stream",
     "text": [
      "Train: tensor(0.6030, device='cuda:0')\n",
      "Test: tensor(0.6000, device='cuda:0')\n"
     ]
    },
    {
     "name": "stderr",
     "output_type": "stream",
     "text": [
      " 10%|█         | 203/2000 [00:10<01:36, 18.64it/s]"
     ]
    },
    {
     "name": "stdout",
     "output_type": "stream",
     "text": [
      "Train: tensor(0.6332, device='cuda:0')\n",
      "Test: tensor(0.6253, device='cuda:0')\n"
     ]
    },
    {
     "name": "stderr",
     "output_type": "stream",
     "text": [
      " 15%|█▌        | 304/2000 [00:15<01:26, 19.71it/s]"
     ]
    },
    {
     "name": "stdout",
     "output_type": "stream",
     "text": [
      "Train: tensor(0.6436, device='cuda:0')\n",
      "Test: tensor(0.6418, device='cuda:0')\n"
     ]
    },
    {
     "name": "stderr",
     "output_type": "stream",
     "text": [
      " 20%|██        | 402/2000 [00:20<01:19, 20.01it/s]"
     ]
    },
    {
     "name": "stdout",
     "output_type": "stream",
     "text": [
      "Train: tensor(0.6482, device='cuda:0')\n",
      "Test: tensor(0.6474, device='cuda:0')\n"
     ]
    },
    {
     "name": "stderr",
     "output_type": "stream",
     "text": [
      " 25%|██▌       | 503/2000 [00:25<01:14, 19.97it/s]"
     ]
    },
    {
     "name": "stdout",
     "output_type": "stream",
     "text": [
      "Train: tensor(0.6549, device='cuda:0')\n",
      "Test: tensor(0.6541, device='cuda:0')\n"
     ]
    },
    {
     "name": "stderr",
     "output_type": "stream",
     "text": [
      " 30%|███       | 602/2000 [00:30<01:09, 20.21it/s]"
     ]
    },
    {
     "name": "stdout",
     "output_type": "stream",
     "text": [
      "Train: tensor(0.6654, device='cuda:0')\n",
      "Test: tensor(0.6534, device='cuda:0')\n"
     ]
    },
    {
     "name": "stderr",
     "output_type": "stream",
     "text": [
      " 35%|███▌      | 704/2000 [00:35<01:04, 20.21it/s]"
     ]
    },
    {
     "name": "stdout",
     "output_type": "stream",
     "text": [
      "Train: tensor(0.6696, device='cuda:0')\n",
      "Test: tensor(0.6560, device='cuda:0')\n"
     ]
    },
    {
     "name": "stderr",
     "output_type": "stream",
     "text": [
      " 40%|████      | 803/2000 [00:40<00:59, 20.24it/s]"
     ]
    },
    {
     "name": "stdout",
     "output_type": "stream",
     "text": [
      "Train: tensor(0.6628, device='cuda:0')\n",
      "Test: tensor(0.6607, device='cuda:0')\n"
     ]
    },
    {
     "name": "stderr",
     "output_type": "stream",
     "text": [
      " 45%|████▌     | 902/2000 [00:45<00:54, 20.06it/s]"
     ]
    },
    {
     "name": "stdout",
     "output_type": "stream",
     "text": [
      "Train: tensor(0.6672, device='cuda:0')\n",
      "Test: tensor(0.6668, device='cuda:0')\n"
     ]
    },
    {
     "name": "stderr",
     "output_type": "stream",
     "text": [
      " 50%|█████     | 1004/2000 [00:50<00:49, 20.28it/s]"
     ]
    },
    {
     "name": "stdout",
     "output_type": "stream",
     "text": [
      "Train: tensor(0.6847, device='cuda:0')\n",
      "Test: tensor(0.6683, device='cuda:0')\n"
     ]
    },
    {
     "name": "stderr",
     "output_type": "stream",
     "text": [
      " 55%|█████▌    | 1103/2000 [00:55<00:44, 20.12it/s]"
     ]
    },
    {
     "name": "stdout",
     "output_type": "stream",
     "text": [
      "Train: tensor(0.6804, device='cuda:0')\n",
      "Test: tensor(0.6716, device='cuda:0')\n"
     ]
    },
    {
     "name": "stderr",
     "output_type": "stream",
     "text": [
      " 60%|██████    | 1202/2000 [01:00<00:39, 20.08it/s]"
     ]
    },
    {
     "name": "stdout",
     "output_type": "stream",
     "text": [
      "Train: tensor(0.6844, device='cuda:0')\n",
      "Test: tensor(0.6716, device='cuda:0')\n"
     ]
    },
    {
     "name": "stderr",
     "output_type": "stream",
     "text": [
      " 65%|██████▌   | 1304/2000 [01:05<00:34, 20.05it/s]"
     ]
    },
    {
     "name": "stdout",
     "output_type": "stream",
     "text": [
      "Train: tensor(0.6814, device='cuda:0')\n",
      "Test: tensor(0.6743, device='cuda:0')\n"
     ]
    },
    {
     "name": "stderr",
     "output_type": "stream",
     "text": [
      " 70%|███████   | 1403/2000 [01:09<00:29, 20.29it/s]"
     ]
    },
    {
     "name": "stdout",
     "output_type": "stream",
     "text": [
      "Train: tensor(0.6876, device='cuda:0')\n",
      "Test: tensor(0.6748, device='cuda:0')\n"
     ]
    },
    {
     "name": "stderr",
     "output_type": "stream",
     "text": [
      " 75%|███████▌  | 1502/2000 [01:14<00:24, 19.98it/s]"
     ]
    },
    {
     "name": "stdout",
     "output_type": "stream",
     "text": [
      "Train: tensor(0.6896, device='cuda:0')\n",
      "Test: tensor(0.6759, device='cuda:0')\n"
     ]
    },
    {
     "name": "stderr",
     "output_type": "stream",
     "text": [
      " 80%|████████  | 1604/2000 [01:19<00:19, 20.28it/s]"
     ]
    },
    {
     "name": "stdout",
     "output_type": "stream",
     "text": [
      "Train: tensor(0.6878, device='cuda:0')\n",
      "Test: tensor(0.6754, device='cuda:0')\n"
     ]
    },
    {
     "name": "stderr",
     "output_type": "stream",
     "text": [
      " 85%|████████▌ | 1703/2000 [01:24<00:14, 20.17it/s]"
     ]
    },
    {
     "name": "stdout",
     "output_type": "stream",
     "text": [
      "Train: tensor(0.6967, device='cuda:0')\n",
      "Test: tensor(0.6774, device='cuda:0')\n"
     ]
    },
    {
     "name": "stderr",
     "output_type": "stream",
     "text": [
      " 90%|█████████ | 1802/2000 [01:29<00:09, 19.93it/s]"
     ]
    },
    {
     "name": "stdout",
     "output_type": "stream",
     "text": [
      "Train: tensor(0.6939, device='cuda:0')\n",
      "Test: tensor(0.6775, device='cuda:0')\n"
     ]
    },
    {
     "name": "stderr",
     "output_type": "stream",
     "text": [
      " 95%|█████████▌| 1904/2000 [01:34<00:04, 20.29it/s]"
     ]
    },
    {
     "name": "stdout",
     "output_type": "stream",
     "text": [
      "Train: tensor(0.6890, device='cuda:0')\n",
      "Test: tensor(0.6769, device='cuda:0')\n"
     ]
    },
    {
     "name": "stderr",
     "output_type": "stream",
     "text": [
      "100%|██████████| 2000/2000 [01:39<00:00, 20.18it/s]"
     ]
    },
    {
     "name": "stdout",
     "output_type": "stream",
     "text": [
      "Train: tensor(0.6921, device='cuda:0')\n",
      "Test: tensor(0.6727, device='cuda:0')\n"
     ]
    },
    {
     "name": "stderr",
     "output_type": "stream",
     "text": [
      "\n"
     ]
    }
   ],
   "source": [
    "for x in tqdm(range(num_epochs)):\n",
    "    \n",
    "    model.train()\n",
    "    loss = 0\n",
    "    \n",
    "    neg_pairs = negative_sampling(known_edges, data.x.shape[0], train_test_num_edges - test_num_edges, force_undirected=True).to(device)\n",
    "    pairs = torch.cat([train_edges, neg_pairs], dim=1)\n",
    "    marks = torch.cat([torch.ones(train_edges.shape[1]), torch.zeros(neg_pairs.shape[1])]).to(device)\n",
    "    \n",
    "    optimizer.zero_grad()\n",
    "    \n",
    "    val = run(model, data, pairs)\n",
    "    loss = criterion(val, marks).mean()\n",
    "    \n",
    "    loss.backward()\n",
    "    optimizer.step()\n",
    "    loss_histroy.append(loss)\n",
    "    \n",
    "    if (x + 1) % 100 == 0:\n",
    "        model.eval()\n",
    "        with torch.no_grad():\n",
    "            val = torch.sigmoid(run(model, data, pairs))\n",
    "            torch.round_(val)\n",
    "            acc = (val == marks).sum() / val.shape[0]\n",
    "            print(\"Train:\", acc)\n",
    "            val = torch.sigmoid(run(model, data, test_pairs))\n",
    "            torch.round_(val)\n",
    "            acc = (val == test_marks).sum() / val.shape[0]\n",
    "            print(\"Test:\", acc)"
   ]
  }
 ],
 "metadata": {
  "kernelspec": {
   "display_name": "Python 3.9.12 ('eecs487')",
   "language": "python",
   "name": "python3"
  },
  "language_info": {
   "codemirror_mode": {
    "name": "ipython",
    "version": 3
   },
   "file_extension": ".py",
   "mimetype": "text/x-python",
   "name": "python",
   "nbconvert_exporter": "python",
   "pygments_lexer": "ipython3",
   "version": "3.9.12"
  },
  "orig_nbformat": 4,
  "vscode": {
   "interpreter": {
    "hash": "09e4fc883b53cb6b10feb4b5850117e57655428fbcd89fe199afcb52368406b6"
   }
  }
 },
 "nbformat": 4,
 "nbformat_minor": 2
}
