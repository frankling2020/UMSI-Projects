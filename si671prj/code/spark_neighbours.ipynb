{
 "cells": [
  {
   "attachments": {},
   "cell_type": "markdown",
   "id": "a426f14d",
   "metadata": {},
   "source": [
    "**Import Data User**"
   ]
  },
  {
   "cell_type": "code",
   "execution_count": 77,
   "id": "eeec4c30",
   "metadata": {},
   "outputs": [],
   "source": [
    "# !unzip yelp_academic_dataset_user.json.zip"
   ]
  },
  {
   "cell_type": "code",
   "execution_count": 2,
   "id": "487024a1",
   "metadata": {},
   "outputs": [
    {
     "name": "stdout",
     "output_type": "stream",
     "text": [
      "derby.log     ondemand\t\t      yelp_academic_dataset_user.json\r\n",
      "metastore_db  spark_neighbours.ipynb\r\n"
     ]
    }
   ],
   "source": [
    "!rm yelp_academic_dataset_user.json.zip\n",
    "!ls"
   ]
  },
  {
   "cell_type": "code",
   "execution_count": 3,
   "id": "1c28a8da",
   "metadata": {},
   "outputs": [],
   "source": [
    "a = spark.read.json(\"yelp_academic_dataset_user.json\")"
   ]
  },
  {
   "cell_type": "code",
   "execution_count": 4,
   "id": "400056d9",
   "metadata": {},
   "outputs": [
    {
     "name": "stdout",
     "output_type": "stream",
     "text": [
      "root\n",
      " |-- average_stars: double (nullable = true)\n",
      " |-- compliment_cool: long (nullable = true)\n",
      " |-- compliment_cute: long (nullable = true)\n",
      " |-- compliment_funny: long (nullable = true)\n",
      " |-- compliment_hot: long (nullable = true)\n",
      " |-- compliment_list: long (nullable = true)\n",
      " |-- compliment_more: long (nullable = true)\n",
      " |-- compliment_note: long (nullable = true)\n",
      " |-- compliment_photos: long (nullable = true)\n",
      " |-- compliment_plain: long (nullable = true)\n",
      " |-- compliment_profile: long (nullable = true)\n",
      " |-- compliment_writer: long (nullable = true)\n",
      " |-- cool: long (nullable = true)\n",
      " |-- elite: string (nullable = true)\n",
      " |-- fans: long (nullable = true)\n",
      " |-- friends: string (nullable = true)\n",
      " |-- funny: long (nullable = true)\n",
      " |-- name: string (nullable = true)\n",
      " |-- review_count: long (nullable = true)\n",
      " |-- useful: long (nullable = true)\n",
      " |-- user_id: string (nullable = true)\n",
      " |-- yelping_since: string (nullable = true)\n",
      "\n"
     ]
    }
   ],
   "source": [
    "a.printSchema()"
   ]
  },
  {
   "attachments": {},
   "cell_type": "markdown",
   "id": "40afcce4",
   "metadata": {},
   "source": [
    "**Extract Friends**"
   ]
  },
  {
   "cell_type": "code",
   "execution_count": 5,
   "id": "94cbce2d",
   "metadata": {},
   "outputs": [],
   "source": [
    "friends = a.rdd.map(lambda row: (row['user_id'], set(row['friends'].split(', '))))"
   ]
  },
  {
   "cell_type": "code",
   "execution_count": 6,
   "id": "35ed5ad5",
   "metadata": {},
   "outputs": [],
   "source": [
    "import pandas as pd"
   ]
  },
  {
   "cell_type": "code",
   "execution_count": 7,
   "id": "38189c31",
   "metadata": {},
   "outputs": [],
   "source": [
    "path = \"yelp_academic_dataset_user.json\"\n",
    "size = 1\n",
    "user = pd.read_json(path, lines=True, chunksize=size)"
   ]
  },
  {
   "cell_type": "code",
   "execution_count": 8,
   "id": "b393c257",
   "metadata": {},
   "outputs": [],
   "source": [
    "df = None\n",
    "for u in user:\n",
    "    df = u\n",
    "    break"
   ]
  },
  {
   "cell_type": "code",
   "execution_count": 9,
   "id": "c1e30dda",
   "metadata": {},
   "outputs": [],
   "source": [
    "sample_user_id = set(df.user_id)"
   ]
  },
  {
   "cell_type": "code",
   "execution_count": 10,
   "id": "c85cfb3b",
   "metadata": {},
   "outputs": [],
   "source": [
    "all_user = sample_user_id"
   ]
  },
  {
   "attachments": {},
   "cell_type": "markdown",
   "id": "a3bb3ae2",
   "metadata": {},
   "source": [
    "**K-HOP with BFS**"
   ]
  },
  {
   "cell_type": "code",
   "execution_count": 11,
   "id": "f2cd56e1",
   "metadata": {},
   "outputs": [
    {
     "name": "stdout",
     "output_type": "stream",
     "text": [
      "14995\n",
      "461105\n"
     ]
    }
   ],
   "source": [
    "for _ in range(2):\n",
    "    sample_user_id = friends.filter(lambda x: x[0] in sample_user_id).map(lambda row: row[1]).reduce(lambda x, y: x | y) - all_user\n",
    "    print(len(sample_user_id))\n",
    "    all_user |= sample_user_id"
   ]
  },
  {
   "cell_type": "code",
   "execution_count": 12,
   "id": "0f94c0bb",
   "metadata": {},
   "outputs": [
    {
     "data": {
      "text/plain": [
       "476101"
      ]
     },
     "execution_count": 12,
     "metadata": {},
     "output_type": "execute_result"
    }
   ],
   "source": [
    "len(all_user)"
   ]
  },
  {
   "cell_type": "code",
   "execution_count": 31,
   "id": "4b6c30fe",
   "metadata": {},
   "outputs": [
    {
     "data": {
      "text/plain": [
       "(1987897, 106104025)"
      ]
     },
     "execution_count": 31,
     "metadata": {},
     "output_type": "execute_result"
    },
    {
     "name": "stderr",
     "output_type": "stream",
     "text": [
      "Exception in thread \"serve RDD 17\" java.net.SocketTimeoutException: Accept timed out\n",
      "\tat java.net.PlainSocketImpl.socketAccept(Native Method)\n",
      "\tat java.net.AbstractPlainSocketImpl.accept(AbstractPlainSocketImpl.java:409)\n",
      "\tat java.net.ServerSocket.implAccept(ServerSocket.java:560)\n",
      "\tat java.net.ServerSocket.accept(ServerSocket.java:528)\n",
      "\tat org.apache.spark.security.SocketAuthServer$$anon$1.run(SocketAuthServer.scala:64)\n"
     ]
    }
   ],
   "source": [
    "friends.map(lambda row: (1, len(row[1]))).reduce(lambda x, y: (x[0]+y[0], x[1]+y[1]))"
   ]
  },
  {
   "cell_type": "code",
   "execution_count": 13,
   "id": "84c889bf",
   "metadata": {},
   "outputs": [
    {
     "data": {
      "text/plain": [
       "53.375011381374385"
      ]
     },
     "execution_count": 13,
     "metadata": {},
     "output_type": "execute_result"
    }
   ],
   "source": [
    "106104025/1987897"
   ]
  },
  {
   "cell_type": "code",
   "execution_count": 14,
   "id": "e6e3d78a",
   "metadata": {},
   "outputs": [],
   "source": [
    "with open(\"user_id.txt\", \"w+\") as f:\n",
    "    for u in all_user:\n",
    "        f.write(u+\"\\n\")"
   ]
  },
  {
   "cell_type": "code",
   "execution_count": 15,
   "id": "f67a2044",
   "metadata": {},
   "outputs": [
    {
     "name": "stdout",
     "output_type": "stream",
     "text": [
      "u9fOD3y2BxYifsyXQZMSTw\n",
      "GnAmnY_g3hHzVOCCANk7Jg\n",
      "eFf6AQ3kIRzSg_uRBzlz-Q\n",
      "GUAzqV1Pwf7mGaZT18okFg\n",
      "4ciwJaCgt4JbXlC6v1PcPQ\n"
     ]
    }
   ],
   "source": [
    "cnt = 0\n",
    "for i in all_user:\n",
    "    print(i)\n",
    "    cnt += 1\n",
    "    if cnt >= 5:\n",
    "        break"
   ]
  },
  {
   "cell_type": "code",
   "execution_count": 16,
   "id": "c61ace5b",
   "metadata": {},
   "outputs": [
    {
     "name": "stdout",
     "output_type": "stream",
     "text": [
      "u9fOD3y2BxYifsyXQZMSTw\r\n",
      "GnAmnY_g3hHzVOCCANk7Jg\r\n",
      "eFf6AQ3kIRzSg_uRBzlz-Q\r\n",
      "GUAzqV1Pwf7mGaZT18okFg\r\n",
      "4ciwJaCgt4JbXlC6v1PcPQ\r\n",
      "3nuvHQPDQnH-_HTOT0hxqw\r\n",
      "31ouhXIdHOHIgZpexUMXNA\r\n",
      "3Z5ksD1H17Sla3F271cltw\r\n",
      "M4XmTkBMWVfeO0kJ4hdFPw\r\n",
      "H4iTSKSvDHW-LJ1hZxSRmg\r\n"
     ]
    }
   ],
   "source": [
    "!head user_id.txt"
   ]
  },
  {
   "cell_type": "code",
   "execution_count": 21,
   "id": "1f12e2af",
   "metadata": {},
   "outputs": [],
   "source": [
    "u_df = a.rdd.filter(lambda x: x['user_id'] in all_user)"
   ]
  },
  {
   "cell_type": "code",
   "execution_count": 22,
   "id": "d23b7a8b",
   "metadata": {},
   "outputs": [],
   "source": [
    "user_df = u_df.toDF()"
   ]
  },
  {
   "cell_type": "code",
   "execution_count": 23,
   "id": "691ed41d",
   "metadata": {},
   "outputs": [
    {
     "data": {
      "text/plain": [
       "67095"
      ]
     },
     "execution_count": 23,
     "metadata": {},
     "output_type": "execute_result"
    }
   ],
   "source": [
    "user_df.count()"
   ]
  },
  {
   "attachments": {},
   "cell_type": "markdown",
   "id": "e5825b6f",
   "metadata": {},
   "source": [
    "**Store Data**"
   ]
  },
  {
   "cell_type": "code",
   "execution_count": 33,
   "id": "0146f6de",
   "metadata": {},
   "outputs": [],
   "source": [
    "user_df.write.csv(\"sample_user\", sep=\"\\t\")"
   ]
  },
  {
   "cell_type": "code",
   "execution_count": 34,
   "id": "69fe9825",
   "metadata": {},
   "outputs": [],
   "source": [
    "!cat sample_user/*.csv > sample_user.csv"
   ]
  },
  {
   "cell_type": "code",
   "execution_count": 36,
   "id": "63f382da",
   "metadata": {},
   "outputs": [],
   "source": [
    "sample_user = pd.read_csv(\"sample_user.csv\", header=None, sep=\"\\t\")"
   ]
  },
  {
   "cell_type": "code",
   "execution_count": 38,
   "id": "25b8c01d",
   "metadata": {},
   "outputs": [],
   "source": [
    "sample_user.columns = a.columns"
   ]
  },
  {
   "cell_type": "code",
   "execution_count": 41,
   "id": "a75212fd",
   "metadata": {},
   "outputs": [],
   "source": [
    "sample_user.to_csv(\"sample_user.csv\", sep=\"\\t\")"
   ]
  },
  {
   "attachments": {},
   "cell_type": "markdown",
   "id": "66c91f22",
   "metadata": {},
   "source": [
    "**Import Data Review**"
   ]
  },
  {
   "cell_type": "code",
   "execution_count": 42,
   "id": "9474e383",
   "metadata": {},
   "outputs": [
    {
     "name": "stdout",
     "output_type": "stream",
     "text": [
      "Archive:  yelp_academic_dataset_review.json.zip\n",
      "  inflating: yelp_academic_dataset_review.json  \n"
     ]
    }
   ],
   "source": [
    "!unzip yelp_academic_dataset_review.json.zip\n",
    "!rm yelp_academic_dataset_review.json.zip"
   ]
  },
  {
   "cell_type": "code",
   "execution_count": 57,
   "id": "d82acb1d",
   "metadata": {},
   "outputs": [],
   "source": [
    "b = spark.read.json(\"yelp_academic_dataset_review.json\")"
   ]
  },
  {
   "cell_type": "code",
   "execution_count": 58,
   "id": "e9a63797",
   "metadata": {},
   "outputs": [
    {
     "name": "stdout",
     "output_type": "stream",
     "text": [
      "root\n",
      " |-- business_id: string (nullable = true)\n",
      " |-- cool: long (nullable = true)\n",
      " |-- date: string (nullable = true)\n",
      " |-- funny: long (nullable = true)\n",
      " |-- review_id: string (nullable = true)\n",
      " |-- stars: double (nullable = true)\n",
      " |-- text: string (nullable = true)\n",
      " |-- useful: long (nullable = true)\n",
      " |-- user_id: string (nullable = true)\n",
      "\n"
     ]
    }
   ],
   "source": [
    "b.printSchema()"
   ]
  },
  {
   "cell_type": "code",
   "execution_count": 59,
   "id": "398cc4cf",
   "metadata": {},
   "outputs": [],
   "source": [
    "review = b.rdd.filter(lambda row: row['user_id'] in all_user)"
   ]
  },
  {
   "cell_type": "code",
   "execution_count": 83,
   "id": "04bfc8cc",
   "metadata": {},
   "outputs": [],
   "source": [
    "review_df = review.toDF().toPandas()"
   ]
  },
  {
   "cell_type": "code",
   "execution_count": 86,
   "id": "c0dc78a6",
   "metadata": {},
   "outputs": [],
   "source": [
    "review_df.drop(columns=['review_id', 'text'], inplace=True)"
   ]
  },
  {
   "cell_type": "code",
   "execution_count": 87,
   "id": "9e16fcde",
   "metadata": {},
   "outputs": [],
   "source": [
    "review_df.to_csv(\"sample_review.csv\", sep=\"\\t\")"
   ]
  },
  {
   "cell_type": "code",
   "execution_count": 88,
   "id": "01c87d50",
   "metadata": {},
   "outputs": [],
   "source": [
    "real_a = pd.read_csv(\"sample_user.csv\", sep=\"\\t\")\n",
    "real_b = pd.read_csv(\"sample_review.csv\", sep=\"\\t\")"
   ]
  },
  {
   "cell_type": "code",
   "execution_count": 89,
   "id": "21d5d6f5",
   "metadata": {},
   "outputs": [
    {
     "data": {
      "text/plain": [
       "((67095, 23), (883363, 8))"
      ]
     },
     "execution_count": 89,
     "metadata": {},
     "output_type": "execute_result"
    }
   ],
   "source": [
    "real_a.shape, real_b.shape"
   ]
  },
  {
   "cell_type": "code",
   "execution_count": 90,
   "id": "e4168e45",
   "metadata": {},
   "outputs": [
    {
     "data": {
      "text/plain": [
       "Index(['Unnamed: 0', 'business_id', 'cool', 'date', 'funny', 'stars', 'useful',\n",
       "       'user_id'],\n",
       "      dtype='object')"
      ]
     },
     "execution_count": 90,
     "metadata": {},
     "output_type": "execute_result"
    }
   ],
   "source": [
    "real_b.columns"
   ]
  }
 ],
 "metadata": {
  "kernelspec": {
   "display_name": "default",
   "language": "python",
   "name": "python3"
  },
  "language_info": {
   "codemirror_mode": {
    "name": "ipython",
    "version": 3
   },
   "file_extension": ".py",
   "mimetype": "text/x-python",
   "name": "python",
   "nbconvert_exporter": "python",
   "pygments_lexer": "ipython3",
   "version": "3.9.15 (main, Nov 24 2022, 14:39:17) [MSC v.1916 64 bit (AMD64)]"
  },
  "vscode": {
   "interpreter": {
    "hash": "59e87e3db7c66666eab535f9f7fee5a05a07428a9b4b4e8eafebb42f28ab0240"
   }
  }
 },
 "nbformat": 4,
 "nbformat_minor": 5
}
