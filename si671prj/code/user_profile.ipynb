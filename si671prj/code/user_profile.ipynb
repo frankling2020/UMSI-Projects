{
 "cells": [
  {
   "cell_type": "code",
   "execution_count": 1,
   "metadata": {},
   "outputs": [],
   "source": [
    "import pandas as pd"
   ]
  },
  {
   "cell_type": "code",
   "execution_count": 2,
   "metadata": {},
   "outputs": [],
   "source": [
    "user = pd.read_json(\"cleaned_user.json\")"
   ]
  },
  {
   "cell_type": "code",
   "execution_count": 3,
   "metadata": {},
   "outputs": [],
   "source": [
    "minhash = pd.read_csv(\"minhash.csv\", header=None)"
   ]
  },
  {
   "cell_type": "code",
   "execution_count": 4,
   "metadata": {},
   "outputs": [],
   "source": [
    "minhash.columns = ['A', 'B', 'val']"
   ]
  },
  {
   "cell_type": "code",
   "execution_count": 5,
   "metadata": {},
   "outputs": [],
   "source": [
    "user_id = 42"
   ]
  },
  {
   "cell_type": "code",
   "execution_count": 6,
   "metadata": {},
   "outputs": [
    {
     "data": {
      "text/html": [
       "<div>\n",
       "<style scoped>\n",
       "    .dataframe tbody tr th:only-of-type {\n",
       "        vertical-align: middle;\n",
       "    }\n",
       "\n",
       "    .dataframe tbody tr th {\n",
       "        vertical-align: top;\n",
       "    }\n",
       "\n",
       "    .dataframe thead th {\n",
       "        text-align: right;\n",
       "    }\n",
       "</style>\n",
       "<table border=\"1\" class=\"dataframe\">\n",
       "  <thead>\n",
       "    <tr style=\"text-align: right;\">\n",
       "      <th></th>\n",
       "      <th>A</th>\n",
       "      <th>B</th>\n",
       "      <th>val</th>\n",
       "    </tr>\n",
       "  </thead>\n",
       "  <tbody>\n",
       "    <tr>\n",
       "      <th>19235</th>\n",
       "      <td>42</td>\n",
       "      <td>652908</td>\n",
       "      <td>0.666667</td>\n",
       "    </tr>\n",
       "    <tr>\n",
       "      <th>28532</th>\n",
       "      <td>3309187</td>\n",
       "      <td>42</td>\n",
       "      <td>0.666667</td>\n",
       "    </tr>\n",
       "    <tr>\n",
       "      <th>82000</th>\n",
       "      <td>42</td>\n",
       "      <td>4440571</td>\n",
       "      <td>0.666667</td>\n",
       "    </tr>\n",
       "    <tr>\n",
       "      <th>124674</th>\n",
       "      <td>42</td>\n",
       "      <td>4960503</td>\n",
       "      <td>0.666667</td>\n",
       "    </tr>\n",
       "    <tr>\n",
       "      <th>305652</th>\n",
       "      <td>4042753</td>\n",
       "      <td>42</td>\n",
       "      <td>0.666667</td>\n",
       "    </tr>\n",
       "    <tr>\n",
       "      <th>462715</th>\n",
       "      <td>42</td>\n",
       "      <td>447988</td>\n",
       "      <td>0.666667</td>\n",
       "    </tr>\n",
       "  </tbody>\n",
       "</table>\n",
       "</div>"
      ],
      "text/plain": [
       "              A        B       val\n",
       "19235        42   652908  0.666667\n",
       "28532   3309187       42  0.666667\n",
       "82000        42  4440571  0.666667\n",
       "124674       42  4960503  0.666667\n",
       "305652  4042753       42  0.666667\n",
       "462715       42   447988  0.666667"
      ]
     },
     "execution_count": 6,
     "metadata": {},
     "output_type": "execute_result"
    }
   ],
   "source": [
    "minhash[(minhash.A == user_id) | (minhash.B == user_id)]\n"
   ]
  },
  {
   "cell_type": "code",
   "execution_count": 7,
   "metadata": {},
   "outputs": [],
   "source": [
    "reviews = pd.read_csv(\"./user_review_bus.csv\", sep='\\t')"
   ]
  },
  {
   "cell_type": "code",
   "execution_count": 8,
   "metadata": {},
   "outputs": [],
   "source": [
    "reviews['bus_num'] = reviews['bus_new'].apply(lambda x: len(x.split(\", \")))"
   ]
  },
  {
   "cell_type": "code",
   "execution_count": 9,
   "metadata": {},
   "outputs": [
    {
     "data": {
      "text/html": [
       "<div>\n",
       "<style scoped>\n",
       "    .dataframe tbody tr th:only-of-type {\n",
       "        vertical-align: middle;\n",
       "    }\n",
       "\n",
       "    .dataframe tbody tr th {\n",
       "        vertical-align: top;\n",
       "    }\n",
       "\n",
       "    .dataframe thead th {\n",
       "        text-align: right;\n",
       "    }\n",
       "</style>\n",
       "<table border=\"1\" class=\"dataframe\">\n",
       "  <thead>\n",
       "    <tr style=\"text-align: right;\">\n",
       "      <th></th>\n",
       "      <th>A</th>\n",
       "      <th>B</th>\n",
       "      <th>val</th>\n",
       "      <th>Unnamed: 0</th>\n",
       "      <th>id</th>\n",
       "      <th>bus_new</th>\n",
       "      <th>bus_num</th>\n",
       "    </tr>\n",
       "  </thead>\n",
       "  <tbody>\n",
       "    <tr>\n",
       "      <th>460454</th>\n",
       "      <td>4476724</td>\n",
       "      <td>5495693</td>\n",
       "      <td>0.686038</td>\n",
       "      <td>54397</td>\n",
       "      <td>4476724</td>\n",
       "      <td>53114, 24140, 83325, 59285, 83541, 23618, 8724...</td>\n",
       "      <td>523</td>\n",
       "    </tr>\n",
       "    <tr>\n",
       "      <th>457966</th>\n",
       "      <td>3140689</td>\n",
       "      <td>3188575</td>\n",
       "      <td>0.551351</td>\n",
       "      <td>38111</td>\n",
       "      <td>3140689</td>\n",
       "      <td>51756, 25188, 2144, 75993, 83325, 84896, 73417...</td>\n",
       "      <td>303</td>\n",
       "    </tr>\n",
       "    <tr>\n",
       "      <th>463492</th>\n",
       "      <td>2679600</td>\n",
       "      <td>863635</td>\n",
       "      <td>0.584746</td>\n",
       "      <td>32556</td>\n",
       "      <td>2679600</td>\n",
       "      <td>73530, 52902, 64619, 94720, 11019, 73822, 9413...</td>\n",
       "      <td>288</td>\n",
       "    </tr>\n",
       "    <tr>\n",
       "      <th>458172</th>\n",
       "      <td>2245415</td>\n",
       "      <td>3089462</td>\n",
       "      <td>0.609375</td>\n",
       "      <td>27322</td>\n",
       "      <td>2245415</td>\n",
       "      <td>78593, 73417, 26679, 54898, 62761, 87091, 5306...</td>\n",
       "      <td>172</td>\n",
       "    </tr>\n",
       "    <tr>\n",
       "      <th>433762</th>\n",
       "      <td>5347520</td>\n",
       "      <td>685007</td>\n",
       "      <td>0.689320</td>\n",
       "      <td>64897</td>\n",
       "      <td>5347520</td>\n",
       "      <td>95743, 420, 94151, 84972, 90892, 52029, 86895,...</td>\n",
       "      <td>135</td>\n",
       "    </tr>\n",
       "    <tr>\n",
       "      <th>...</th>\n",
       "      <td>...</td>\n",
       "      <td>...</td>\n",
       "      <td>...</td>\n",
       "      <td>...</td>\n",
       "      <td>...</td>\n",
       "      <td>...</td>\n",
       "      <td>...</td>\n",
       "    </tr>\n",
       "    <tr>\n",
       "      <th>44005</th>\n",
       "      <td>2778825</td>\n",
       "      <td>3675483</td>\n",
       "      <td>0.666667</td>\n",
       "      <td>33788</td>\n",
       "      <td>2778825</td>\n",
       "      <td>62431</td>\n",
       "      <td>1</td>\n",
       "    </tr>\n",
       "    <tr>\n",
       "      <th>44006</th>\n",
       "      <td>2778825</td>\n",
       "      <td>3793502</td>\n",
       "      <td>0.500000</td>\n",
       "      <td>33788</td>\n",
       "      <td>2778825</td>\n",
       "      <td>62431</td>\n",
       "      <td>1</td>\n",
       "    </tr>\n",
       "    <tr>\n",
       "      <th>44007</th>\n",
       "      <td>2778825</td>\n",
       "      <td>903612</td>\n",
       "      <td>0.666667</td>\n",
       "      <td>33788</td>\n",
       "      <td>2778825</td>\n",
       "      <td>62431</td>\n",
       "      <td>1</td>\n",
       "    </tr>\n",
       "    <tr>\n",
       "      <th>44008</th>\n",
       "      <td>2778825</td>\n",
       "      <td>4551612</td>\n",
       "      <td>0.666667</td>\n",
       "      <td>33788</td>\n",
       "      <td>2778825</td>\n",
       "      <td>62431</td>\n",
       "      <td>1</td>\n",
       "    </tr>\n",
       "    <tr>\n",
       "      <th>267922</th>\n",
       "      <td>1349591</td>\n",
       "      <td>5442995</td>\n",
       "      <td>0.666667</td>\n",
       "      <td>16446</td>\n",
       "      <td>1349591</td>\n",
       "      <td>62342</td>\n",
       "      <td>1</td>\n",
       "    </tr>\n",
       "  </tbody>\n",
       "</table>\n",
       "<p>463872 rows × 7 columns</p>\n",
       "</div>"
      ],
      "text/plain": [
       "              A        B       val  Unnamed: 0       id  \\\n",
       "460454  4476724  5495693  0.686038       54397  4476724   \n",
       "457966  3140689  3188575  0.551351       38111  3140689   \n",
       "463492  2679600   863635  0.584746       32556  2679600   \n",
       "458172  2245415  3089462  0.609375       27322  2245415   \n",
       "433762  5347520   685007  0.689320       64897  5347520   \n",
       "...         ...      ...       ...         ...      ...   \n",
       "44005   2778825  3675483  0.666667       33788  2778825   \n",
       "44006   2778825  3793502  0.500000       33788  2778825   \n",
       "44007   2778825   903612  0.666667       33788  2778825   \n",
       "44008   2778825  4551612  0.666667       33788  2778825   \n",
       "267922  1349591  5442995  0.666667       16446  1349591   \n",
       "\n",
       "                                                  bus_new  bus_num  \n",
       "460454  53114, 24140, 83325, 59285, 83541, 23618, 8724...      523  \n",
       "457966  51756, 25188, 2144, 75993, 83325, 84896, 73417...      303  \n",
       "463492  73530, 52902, 64619, 94720, 11019, 73822, 9413...      288  \n",
       "458172  78593, 73417, 26679, 54898, 62761, 87091, 5306...      172  \n",
       "433762  95743, 420, 94151, 84972, 90892, 52029, 86895,...      135  \n",
       "...                                                   ...      ...  \n",
       "44005                                               62431        1  \n",
       "44006                                               62431        1  \n",
       "44007                                               62431        1  \n",
       "44008                                               62431        1  \n",
       "267922                                              62342        1  \n",
       "\n",
       "[463872 rows x 7 columns]"
      ]
     },
     "execution_count": 9,
     "metadata": {},
     "output_type": "execute_result"
    }
   ],
   "source": [
    "minhash.merge(reviews, left_on='A', right_on='id').sort_values(by='bus_num', ascending=False)"
   ]
  },
  {
   "cell_type": "code",
   "execution_count": 10,
   "metadata": {},
   "outputs": [
    {
     "data": {
      "text/html": [
       "<div>\n",
       "<style scoped>\n",
       "    .dataframe tbody tr th:only-of-type {\n",
       "        vertical-align: middle;\n",
       "    }\n",
       "\n",
       "    .dataframe tbody tr th {\n",
       "        vertical-align: top;\n",
       "    }\n",
       "\n",
       "    .dataframe thead th {\n",
       "        text-align: right;\n",
       "    }\n",
       "</style>\n",
       "<table border=\"1\" class=\"dataframe\">\n",
       "  <thead>\n",
       "    <tr style=\"text-align: right;\">\n",
       "      <th></th>\n",
       "      <th>A</th>\n",
       "      <th>B</th>\n",
       "      <th>val</th>\n",
       "    </tr>\n",
       "  </thead>\n",
       "  <tbody>\n",
       "    <tr>\n",
       "      <th>19235</th>\n",
       "      <td>42</td>\n",
       "      <td>652908</td>\n",
       "      <td>0.666667</td>\n",
       "    </tr>\n",
       "    <tr>\n",
       "      <th>28532</th>\n",
       "      <td>3309187</td>\n",
       "      <td>42</td>\n",
       "      <td>0.666667</td>\n",
       "    </tr>\n",
       "    <tr>\n",
       "      <th>82000</th>\n",
       "      <td>42</td>\n",
       "      <td>4440571</td>\n",
       "      <td>0.666667</td>\n",
       "    </tr>\n",
       "    <tr>\n",
       "      <th>124674</th>\n",
       "      <td>42</td>\n",
       "      <td>4960503</td>\n",
       "      <td>0.666667</td>\n",
       "    </tr>\n",
       "    <tr>\n",
       "      <th>305652</th>\n",
       "      <td>4042753</td>\n",
       "      <td>42</td>\n",
       "      <td>0.666667</td>\n",
       "    </tr>\n",
       "    <tr>\n",
       "      <th>462715</th>\n",
       "      <td>42</td>\n",
       "      <td>447988</td>\n",
       "      <td>0.666667</td>\n",
       "    </tr>\n",
       "  </tbody>\n",
       "</table>\n",
       "</div>"
      ],
      "text/plain": [
       "              A        B       val\n",
       "19235        42   652908  0.666667\n",
       "28532   3309187       42  0.666667\n",
       "82000        42  4440571  0.666667\n",
       "124674       42  4960503  0.666667\n",
       "305652  4042753       42  0.666667\n",
       "462715       42   447988  0.666667"
      ]
     },
     "execution_count": 10,
     "metadata": {},
     "output_type": "execute_result"
    }
   ],
   "source": [
    "minhash[(minhash.A == user_id) | (minhash.B == user_id)]"
   ]
  },
  {
   "cell_type": "code",
   "execution_count": 11,
   "metadata": {},
   "outputs": [],
   "source": [
    "user_id = 4476724\n",
    "row_id = 60061"
   ]
  },
  {
   "cell_type": "code",
   "execution_count": 12,
   "metadata": {},
   "outputs": [
    {
     "data": {
      "text/plain": [
       "327"
      ]
     },
     "execution_count": 12,
     "metadata": {},
     "output_type": "execute_result"
    }
   ],
   "source": [
    "len(user[user.id == user_id].friend_id.values[0])"
   ]
  },
  {
   "cell_type": "code",
   "execution_count": 13,
   "metadata": {},
   "outputs": [
    {
     "data": {
      "text/html": [
       "<div>\n",
       "<style scoped>\n",
       "    .dataframe tbody tr th:only-of-type {\n",
       "        vertical-align: middle;\n",
       "    }\n",
       "\n",
       "    .dataframe tbody tr th {\n",
       "        vertical-align: top;\n",
       "    }\n",
       "\n",
       "    .dataframe thead th {\n",
       "        text-align: right;\n",
       "    }\n",
       "</style>\n",
       "<table border=\"1\" class=\"dataframe\">\n",
       "  <thead>\n",
       "    <tr style=\"text-align: right;\">\n",
       "      <th></th>\n",
       "      <th>Unnamed: 0</th>\n",
       "      <th>average_stars</th>\n",
       "      <th>compliment_cool</th>\n",
       "      <th>compliment_cute</th>\n",
       "      <th>compliment_funny</th>\n",
       "      <th>compliment_hot</th>\n",
       "      <th>compliment_list</th>\n",
       "      <th>compliment_more</th>\n",
       "      <th>compliment_note</th>\n",
       "      <th>compliment_photos</th>\n",
       "      <th>...</th>\n",
       "      <th>cool</th>\n",
       "      <th>elite</th>\n",
       "      <th>fans</th>\n",
       "      <th>funny</th>\n",
       "      <th>name</th>\n",
       "      <th>review_count</th>\n",
       "      <th>useful</th>\n",
       "      <th>yelping_since</th>\n",
       "      <th>id</th>\n",
       "      <th>friend_id</th>\n",
       "    </tr>\n",
       "  </thead>\n",
       "  <tbody>\n",
       "    <tr>\n",
       "      <th>9065</th>\n",
       "      <td>9065</td>\n",
       "      <td>3.58</td>\n",
       "      <td>194</td>\n",
       "      <td>5</td>\n",
       "      <td>194</td>\n",
       "      <td>73</td>\n",
       "      <td>5</td>\n",
       "      <td>15</td>\n",
       "      <td>267</td>\n",
       "      <td>126</td>\n",
       "      <td>...</td>\n",
       "      <td>3757</td>\n",
       "      <td>2011,2012,2013,2014,2015,2016,2017,2018</td>\n",
       "      <td>142</td>\n",
       "      <td>3175</td>\n",
       "      <td>Mark</td>\n",
       "      <td>1646</td>\n",
       "      <td>5685</td>\n",
       "      <td>2011-06-05 16:36:02</td>\n",
       "      <td>5495693</td>\n",
       "      <td>[4376577, 378891, 1869841, 3627026, 4608030, 3...</td>\n",
       "    </tr>\n",
       "  </tbody>\n",
       "</table>\n",
       "<p>1 rows × 23 columns</p>\n",
       "</div>"
      ],
      "text/plain": [
       "      Unnamed: 0  average_stars  compliment_cool  compliment_cute  \\\n",
       "9065        9065           3.58              194                5   \n",
       "\n",
       "      compliment_funny  compliment_hot  compliment_list  compliment_more  \\\n",
       "9065               194              73                5               15   \n",
       "\n",
       "      compliment_note  compliment_photos  ...  cool  \\\n",
       "9065              267                126  ...  3757   \n",
       "\n",
       "                                        elite  fans  funny  name  \\\n",
       "9065  2011,2012,2013,2014,2015,2016,2017,2018   142   3175  Mark   \n",
       "\n",
       "      review_count  useful        yelping_since       id  \\\n",
       "9065          1646    5685  2011-06-05 16:36:02  5495693   \n",
       "\n",
       "                                              friend_id  \n",
       "9065  [4376577, 378891, 1869841, 3627026, 4608030, 3...  \n",
       "\n",
       "[1 rows x 23 columns]"
      ]
     },
     "execution_count": 13,
     "metadata": {},
     "output_type": "execute_result"
    }
   ],
   "source": [
    "user[user.id == 5495693]"
   ]
  },
  {
   "cell_type": "code",
   "execution_count": 14,
   "metadata": {},
   "outputs": [
    {
     "data": {
      "text/plain": [
       "465"
      ]
     },
     "execution_count": 14,
     "metadata": {},
     "output_type": "execute_result"
    }
   ],
   "source": [
    "len(user[user.id == 5495693].friend_id.values[0])"
   ]
  },
  {
   "cell_type": "code",
   "execution_count": 15,
   "metadata": {},
   "outputs": [
    {
     "data": {
      "text/plain": [
       "327"
      ]
     },
     "execution_count": 15,
     "metadata": {},
     "output_type": "execute_result"
    }
   ],
   "source": [
    "len(user[user.id == user_id].friend_id.values[0])"
   ]
  },
  {
   "cell_type": "code",
   "execution_count": 16,
   "metadata": {},
   "outputs": [
    {
     "data": {
      "text/html": [
       "<div>\n",
       "<style scoped>\n",
       "    .dataframe tbody tr th:only-of-type {\n",
       "        vertical-align: middle;\n",
       "    }\n",
       "\n",
       "    .dataframe tbody tr th {\n",
       "        vertical-align: top;\n",
       "    }\n",
       "\n",
       "    .dataframe thead th {\n",
       "        text-align: right;\n",
       "    }\n",
       "</style>\n",
       "<table border=\"1\" class=\"dataframe\">\n",
       "  <thead>\n",
       "    <tr style=\"text-align: right;\">\n",
       "      <th></th>\n",
       "      <th>Unnamed: 0</th>\n",
       "      <th>average_stars</th>\n",
       "      <th>compliment_cool</th>\n",
       "      <th>compliment_cute</th>\n",
       "      <th>compliment_funny</th>\n",
       "      <th>compliment_hot</th>\n",
       "      <th>compliment_list</th>\n",
       "      <th>compliment_more</th>\n",
       "      <th>compliment_note</th>\n",
       "      <th>compliment_photos</th>\n",
       "      <th>...</th>\n",
       "      <th>cool</th>\n",
       "      <th>elite</th>\n",
       "      <th>fans</th>\n",
       "      <th>funny</th>\n",
       "      <th>name</th>\n",
       "      <th>review_count</th>\n",
       "      <th>useful</th>\n",
       "      <th>yelping_since</th>\n",
       "      <th>id</th>\n",
       "      <th>friend_id</th>\n",
       "    </tr>\n",
       "  </thead>\n",
       "  <tbody>\n",
       "    <tr>\n",
       "      <th>11730</th>\n",
       "      <td>11730</td>\n",
       "      <td>3.5</td>\n",
       "      <td>103</td>\n",
       "      <td>5</td>\n",
       "      <td>103</td>\n",
       "      <td>101</td>\n",
       "      <td>2</td>\n",
       "      <td>7</td>\n",
       "      <td>100</td>\n",
       "      <td>62</td>\n",
       "      <td>...</td>\n",
       "      <td>1271</td>\n",
       "      <td>2013,2014,2015,2016,2017</td>\n",
       "      <td>53</td>\n",
       "      <td>1184</td>\n",
       "      <td>Gigi</td>\n",
       "      <td>659</td>\n",
       "      <td>1567</td>\n",
       "      <td>2012-06-12 21:27:11</td>\n",
       "      <td>4476724</td>\n",
       "      <td>[213003, 378891, 4679696, 3512352, 864292, 303...</td>\n",
       "    </tr>\n",
       "  </tbody>\n",
       "</table>\n",
       "<p>1 rows × 23 columns</p>\n",
       "</div>"
      ],
      "text/plain": [
       "       Unnamed: 0  average_stars  compliment_cool  compliment_cute  \\\n",
       "11730       11730            3.5              103                5   \n",
       "\n",
       "       compliment_funny  compliment_hot  compliment_list  compliment_more  \\\n",
       "11730               103             101                2                7   \n",
       "\n",
       "       compliment_note  compliment_photos  ...  cool  \\\n",
       "11730              100                 62  ...  1271   \n",
       "\n",
       "                          elite  fans  funny  name  review_count  useful  \\\n",
       "11730  2013,2014,2015,2016,2017    53   1184  Gigi           659    1567   \n",
       "\n",
       "             yelping_since       id  \\\n",
       "11730  2012-06-12 21:27:11  4476724   \n",
       "\n",
       "                                               friend_id  \n",
       "11730  [213003, 378891, 4679696, 3512352, 864292, 303...  \n",
       "\n",
       "[1 rows x 23 columns]"
      ]
     },
     "execution_count": 16,
     "metadata": {},
     "output_type": "execute_result"
    }
   ],
   "source": [
    "user[user.id == user_id]"
   ]
  },
  {
   "cell_type": "code",
   "execution_count": 18,
   "metadata": {},
   "outputs": [
    {
     "name": "stdout",
     "output_type": "stream",
     "text": [
      "       Unnamed: 0  average_stars  compliment_cool  compliment_cute  \\\n",
      "29163       29163           3.83              432               14   \n",
      "49996       49996           4.03              109                3   \n",
      "57876       57876           3.78             1464               20   \n",
      "\n",
      "       compliment_funny  compliment_hot  compliment_list  compliment_more  \\\n",
      "29163               432             366                2               50   \n",
      "49996               109              45                1               13   \n",
      "57876              1464             530                2               55   \n",
      "\n",
      "       compliment_note  compliment_photos  ...  cool                elite  \\\n",
      "29163              138                101  ...  3936                 None   \n",
      "49996               45                  7  ...  3966  2010,2011,2012,2013   \n",
      "57876              430                440  ...  9178                 2021   \n",
      "\n",
      "       fans  funny  name  review_count  useful        yelping_since       id  \\\n",
      "29163    47   3652  Nick           236    4233  2010-04-07 04:51:10  5236527   \n",
      "49996    42   3903   Tim           440    4321  2010-03-06 06:02:28  2568097   \n",
      "57876    66   4671   Sue           692   10282  2015-11-04 04:50:17  4978186   \n",
      "\n",
      "                                               friend_id  \n",
      "29163  [5376003, 1206280, 2000907, 5322763, 5300235, ...  \n",
      "49996  [1359873, 2932740, 2439172, 5038087, 5357577, ...  \n",
      "57876  [1001473, 3244037, 1292293, 5142538, 3192842, ...  \n",
      "\n",
      "[3 rows x 23 columns]\n"
     ]
    }
   ],
   "source": [
    "users =  [29163, 49996, 57876]\n",
    "print(user.iloc[users])"
   ]
  },
  {
   "cell_type": "code",
   "execution_count": 21,
   "metadata": {},
   "outputs": [
    {
     "data": {
      "text/plain": [
       "False"
      ]
     },
     "execution_count": 21,
     "metadata": {},
     "output_type": "execute_result"
    }
   ],
   "source": [
    "4978186 in user[user.id == user_id].friend_id.values[0]"
   ]
  },
  {
   "cell_type": "code",
   "execution_count": null,
   "metadata": {},
   "outputs": [],
   "source": []
  }
 ],
 "metadata": {
  "kernelspec": {
   "display_name": "default",
   "language": "python",
   "name": "python3"
  },
  "language_info": {
   "codemirror_mode": {
    "name": "ipython",
    "version": 3
   },
   "file_extension": ".py",
   "mimetype": "text/x-python",
   "name": "python",
   "nbconvert_exporter": "python",
   "pygments_lexer": "ipython3",
   "version": "3.9.15 (main, Nov 24 2022, 14:39:17) [MSC v.1916 64 bit (AMD64)]"
  },
  "orig_nbformat": 4,
  "vscode": {
   "interpreter": {
    "hash": "59e87e3db7c66666eab535f9f7fee5a05a07428a9b4b4e8eafebb42f28ab0240"
   }
  }
 },
 "nbformat": 4,
 "nbformat_minor": 2
}
