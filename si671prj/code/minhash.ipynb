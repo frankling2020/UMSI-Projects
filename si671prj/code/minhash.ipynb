{
 "cells": [
  {
   "attachments": {},
   "cell_type": "markdown",
   "id": "dcf5591c",
   "metadata": {},
   "source": [
    "**Implement Minhash to Calculate the Jaccard Similarity**"
   ]
  },
  {
   "cell_type": "code",
   "execution_count": 1,
   "id": "83e969b0",
   "metadata": {},
   "outputs": [],
   "source": [
    "# in this case, since there are many usesrs in the dataset, I will use the minhash to calculate to save time\n",
    "from pyspark.ml import Pipeline\n",
    "from pyspark.ml.feature import HashingTF, MinHashLSH\n",
    "import pyspark.sql.functions as f"
   ]
  },
  {
   "cell_type": "code",
   "execution_count": 2,
   "id": "db856d8c",
   "metadata": {},
   "outputs": [],
   "source": [
    "db = spark.read.csv(\"user_review_bus.csv\", sep=\"\\t\", header=True)"
   ]
  },
  {
   "cell_type": "code",
   "execution_count": 3,
   "id": "15bd31de",
   "metadata": {},
   "outputs": [
    {
     "name": "stdout",
     "output_type": "stream",
     "text": [
      "root\n",
      " |-- _c0: string (nullable = true)\n",
      " |-- id: string (nullable = true)\n",
      " |-- bus_new: string (nullable = true)\n",
      "\n"
     ]
    }
   ],
   "source": [
    "db.printSchema()"
   ]
  },
  {
   "cell_type": "code",
   "execution_count": 4,
   "id": "966a2962",
   "metadata": {},
   "outputs": [],
   "source": [
    "db_split = db.withColumn(\"bus_id\", f.split(f.col(\"bus_new\"), \", \").cast(\"array<long>\"))"
   ]
  },
  {
   "cell_type": "code",
   "execution_count": 5,
   "id": "019b5276",
   "metadata": {},
   "outputs": [
    {
     "data": {
      "text/plain": [
       "Row(_c0='0', id='42', bus_new='73765, 93774', bus_id=[73765, 93774])"
      ]
     },
     "execution_count": 5,
     "metadata": {},
     "output_type": "execute_result"
    }
   ],
   "source": [
    "db_split.first()"
   ]
  },
  {
   "cell_type": "code",
   "execution_count": 6,
   "id": "521f6b4e",
   "metadata": {},
   "outputs": [
    {
     "data": {
      "text/plain": [
       "67095"
      ]
     },
     "execution_count": 6,
     "metadata": {},
     "output_type": "execute_result"
    }
   ],
   "source": [
    "db_split.count()"
   ]
  },
  {
   "cell_type": "code",
   "execution_count": 7,
   "id": "82593388",
   "metadata": {},
   "outputs": [],
   "source": [
    "model = Pipeline(stages=[\n",
    "        HashingTF(inputCol=\"bus_id\", outputCol=\"vectors\"),\n",
    "        MinHashLSH(inputCol=\"vectors\", outputCol=\"lsh\", numHashTables=100)\n",
    "    ]).fit(db_split)\n",
    "\n",
    "db_hashed = model.transform(db_split)"
   ]
  },
  {
   "cell_type": "code",
   "execution_count": 9,
   "id": "483eb690",
   "metadata": {},
   "outputs": [],
   "source": [
    "db_matches = model.stages[-1].approxSimilarityJoin(db_hashed, db_hashed, 0.7) # type: ignore"
   ]
  },
  {
   "cell_type": "code",
   "execution_count": 10,
   "id": "e247d0a1",
   "metadata": {},
   "outputs": [
    {
     "name": "stdout",
     "output_type": "stream",
     "text": [
      "root\n",
      " |-- datasetA: struct (nullable = false)\n",
      " |    |-- _c0: string (nullable = true)\n",
      " |    |-- id: string (nullable = true)\n",
      " |    |-- bus_new: string (nullable = true)\n",
      " |    |-- bus_id: array (nullable = true)\n",
      " |    |    |-- element: long (containsNull = true)\n",
      " |    |-- vectors: vector (nullable = true)\n",
      " |    |-- lsh: array (nullable = true)\n",
      " |    |    |-- element: vector (containsNull = true)\n",
      " |-- datasetB: struct (nullable = false)\n",
      " |    |-- _c0: string (nullable = true)\n",
      " |    |-- id: string (nullable = true)\n",
      " |    |-- bus_new: string (nullable = true)\n",
      " |    |-- bus_id: array (nullable = true)\n",
      " |    |    |-- element: long (containsNull = true)\n",
      " |    |-- lsh: array (nullable = true)\n",
      " |    |    |-- element: vector (containsNull = true)\n",
      " |    |-- vectors: vector (nullable = true)\n",
      " |-- distCol: double (nullable = false)\n",
      "\n"
     ]
    }
   ],
   "source": [
    "db_matches.printSchema()"
   ]
  },
  {
   "cell_type": "code",
   "execution_count": 11,
   "id": "6d057f11",
   "metadata": {},
   "outputs": [],
   "source": [
    "db_g = db_matches.select(f.col('datasetA.id').alias('id_A'),\n",
    "                 f.col('datasetB.id').alias('id_B'),\n",
    "                 f.col('distCol')).filter('id_A < id_B')"
   ]
  },
  {
   "cell_type": "code",
   "execution_count": 12,
   "id": "7b4b307a",
   "metadata": {},
   "outputs": [],
   "source": [
    "db_g.write.csv(\"minhash\")"
   ]
  },
  {
   "cell_type": "code",
   "execution_count": 13,
   "id": "bc5d08e8",
   "metadata": {},
   "outputs": [],
   "source": [
    "!cat minhash/*.csv >minhash.csv"
   ]
  },
  {
   "cell_type": "code",
   "execution_count": 14,
   "id": "390de43f",
   "metadata": {},
   "outputs": [
    {
     "name": "stdout",
     "output_type": "stream",
     "text": [
      "463872 minhash.csv\r\n"
     ]
    }
   ],
   "source": [
    "!wc -l minhash.csv"
   ]
  },
  {
   "cell_type": "code",
   "execution_count": 15,
   "id": "925228c1",
   "metadata": {},
   "outputs": [
    {
     "data": {
      "text/plain": [
       "0.00010304284575892314"
      ]
     },
     "execution_count": 15,
     "metadata": {},
     "output_type": "execute_result"
    }
   ],
   "source": [
    "463872 / 67095**2"
   ]
  },
  {
   "cell_type": "code",
   "execution_count": null,
   "id": "614923d9",
   "metadata": {},
   "outputs": [],
   "source": []
  }
 ],
 "metadata": {
  "kernelspec": {
   "display_name": "default",
   "language": "python",
   "name": "python3"
  },
  "language_info": {
   "codemirror_mode": {
    "name": "ipython",
    "version": 3
   },
   "file_extension": ".py",
   "mimetype": "text/x-python",
   "name": "python",
   "nbconvert_exporter": "python",
   "pygments_lexer": "ipython3",
   "version": "3.9.15 (main, Nov 24 2022, 14:39:17) [MSC v.1916 64 bit (AMD64)]"
  },
  "vscode": {
   "interpreter": {
    "hash": "59e87e3db7c66666eab535f9f7fee5a05a07428a9b4b4e8eafebb42f28ab0240"
   }
  }
 },
 "nbformat": 4,
 "nbformat_minor": 5
}
